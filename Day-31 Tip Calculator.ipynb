{
 "cells": [
  {
   "cell_type": "markdown",
   "id": "c0d49588-9bb0-411d-89f7-b6b4bda19505",
   "metadata": {},
   "source": [
    "### Day 31 of programming"
   ]
  },
  {
   "cell_type": "markdown",
   "id": "91f4f3cb-c7c9-4d5e-bc1c-0f8f923072c2",
   "metadata": {},
   "source": [
    "## Tip Calculator"
   ]
  },
  {
   "cell_type": "code",
   "execution_count": 1,
   "id": "96db2b48-5f96-4b3d-9b0c-c5b70dd9eb37",
   "metadata": {},
   "outputs": [
    {
     "name": "stdout",
     "output_type": "stream",
     "text": [
      "Welcome to the tip calculator!\n"
     ]
    },
    {
     "name": "stdin",
     "output_type": "stream",
     "text": [
      "What is the total bill amount? (e.g., 50.75)\n",
      "$:  100\n",
      "How much tip would you like to give? (Enter percentage without % sign)\n",
      "Percentage:  10\n",
      "How many people are splitting the bill?\n",
      "People:  5\n"
     ]
    },
    {
     "name": "stdout",
     "output_type": "stream",
     "text": [
      "\n",
      "Total bill including tip: $110.00\n",
      "Each person should pay: $22.00\n"
     ]
    }
   ],
   "source": [
    "def tip_calculator():\n",
    "    print(\"Welcome to the tip calculator!\")\n",
    "    \n",
    "    # Asking the user for inputs and adding error checking\n",
    "    try:\n",
    "        bill = float(input(\"What is the total bill amount? (e.g., 50.75)\\n$: \"))\n",
    "        tip_percentage = int(input(\"How much tip would you like to give? (Enter percentage without % sign)\\nPercentage: \"))\n",
    "        split_people = int(input(\"How many people are splitting the bill?\\nPeople: \"))\n",
    "    except ValueError:\n",
    "        print(\"Invalid input. Please enter numeric values only.\")\n",
    "        return\n",
    "    \n",
    "    # Checking for valid input ranges\n",
    "    if bill < 0 or tip_percentage < 0 or split_people <= 0:\n",
    "        print(\"Please ensure all values are positive, and there is at least 1 person splitting the bill.\")\n",
    "        return\n",
    "    \n",
    "    # Calculating the total amount per person\n",
    "    total_tip = bill * (tip_percentage / 100)\n",
    "    total_bill = bill + total_tip\n",
    "    amount_per_person = total_bill / split_people\n",
    "    \n",
    "    # Displaying the result\n",
    "    print(f\"\\nTotal bill including tip: ${total_bill:.2f}\")\n",
    "    print(f\"Each person should pay: ${amount_per_person:.2f}\")\n",
    "\n",
    "# Running the function\n",
    "tip_calculator()\n"
   ]
  },
  {
   "cell_type": "code",
   "execution_count": null,
   "id": "a8d431cc-8a07-4627-914d-ae3b32531114",
   "metadata": {},
   "outputs": [],
   "source": []
  }
 ],
 "metadata": {
  "kernelspec": {
   "display_name": "Python 3 (ipykernel)",
   "language": "python",
   "name": "python3"
  },
  "language_info": {
   "codemirror_mode": {
    "name": "ipython",
    "version": 3
   },
   "file_extension": ".py",
   "mimetype": "text/x-python",
   "name": "python",
   "nbconvert_exporter": "python",
   "pygments_lexer": "ipython3",
   "version": "3.12.4"
  }
 },
 "nbformat": 4,
 "nbformat_minor": 5
}
