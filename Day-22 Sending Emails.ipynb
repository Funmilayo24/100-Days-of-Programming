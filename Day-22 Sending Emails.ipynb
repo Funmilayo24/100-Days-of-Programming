{
 "cells": [
  {
   "cell_type": "markdown",
   "id": "81550faa-3462-433f-8c9b-898190dd56c0",
   "metadata": {},
   "source": [
    "### Day 22 of programming"
   ]
  },
  {
   "cell_type": "markdown",
   "id": "97a93a16-2723-4b91-aa50-d412e7029b6b",
   "metadata": {},
   "source": [
    "### Sending Emails with Python's smtplib Module\n",
    "#### 1. Introduction\n",
    "Python's smtplib module provides a simple way to send emails. In this tutorial, we'll create a script that allows users to enter the recipient's email address, subject, and body of the email. We'll use a Gmail account as an example, but you can adapt it for other email providers.\n",
    "\n",
    "#### 2. Prerequisites\n",
    "Python installed on your system.\n",
    "\n",
    "A Gmail account (or other SMTP server credentials).\n",
    "\n",
    "Basic knowledge of Python.\n",
    "\n",
    "smtplib handles the SMTP protocol to send emails.\n",
    "\n",
    "MIMEMultipart is used to create a message object that supports multiple parts (e.g., text and attachments).\n",
    "\n",
    "MIMEText is used to create the text part of the email.\n",
    "#### 3. Install Required Libraries\n",
    "You'll need the smtplib and email libraries, which are included in Python's standard library, so no additional installation is required.\n",
    "\n",
    "#### 4. Write the Email Sending Script\n",
    "Here’s the detailed Python script to send emails:"
   ]
  },
  {
   "cell_type": "code",
   "execution_count": null,
   "id": "6ee45b19-9153-40d0-8f47-50834e982a78",
   "metadata": {},
   "outputs": [],
   "source": [
    "import smtplib\n",
    "from email.mime.multipart import MIMEMultipart\n",
    "from email.mime.text import MIMEText\n",
    "\n",
    "def send_email(smtp_server, smtp_port, username, password, from_addr, to_addr, subject, body):\n",
    "    # Create a MIME object\n",
    "    msg = MIMEMultipart()\n",
    "    msg['From'] = from_addr\n",
    "    msg['To'] = to_addr\n",
    "    msg['Subject'] = subject\n",
    "    \n",
    "    # Attach the email body to the MIME object\n",
    "    msg.attach(MIMEText(body, 'plain'))\n",
    "    \n",
    "    try:\n",
    "        # Connect to the SMTP server\n",
    "        server = smtplib.SMTP(smtp_server, smtp_port)\n",
    "        server.starttls()  # Upgrade the connection to a secure encrypted SSL/TLS connection\n",
    "        \n",
    "        # Log in to the server\n",
    "        server.login(username, password)\n",
    "        \n",
    "        # Send the email\n",
    "        server.sendmail(from_addr, to_addr, msg.as_string())\n",
    "        print(\"Email sent successfully!\")\n",
    "        \n",
    "    except Exception as e:\n",
    "        print(f\"Failed to send email: {e}\")\n",
    "        \n",
    "    finally:\n",
    "        # Close the connection\n",
    "        server.quit()\n",
    "\n",
    "if __name__ == \"__main__\":\n",
    "    # User input\n",
    "    smtp_server = input(\"Enter SMTP server (e.g., smtp.gmail.com): \")\n",
    "    smtp_port = int(input(\"Enter SMTP port (e.g., 587): \"))\n",
    "    username = input(\"Enter your email address: \")\n",
    "    password = input(\"Enter your email password: \")\n",
    "    from_addr = username\n",
    "    to_addr = input(\"Enter recipient's email address: \")\n",
    "    subject = input(\"Enter the subject of the email: \")\n",
    "    body = input(\"Enter the body of the email: \")\n",
    "    \n",
    "    # Send the email\n",
    "    send_email(smtp_server, smtp_port, username, password, from_addr, to_addr, subject, body)\n"
   ]
  },
  {
   "cell_type": "code",
   "execution_count": null,
   "id": "7053008e-5963-4529-b471-a8d11c38739e",
   "metadata": {},
   "outputs": [],
   "source": []
  }
 ],
 "metadata": {
  "kernelspec": {
   "display_name": "Python 3 (ipykernel)",
   "language": "python",
   "name": "python3"
  },
  "language_info": {
   "codemirror_mode": {
    "name": "ipython",
    "version": 3
   },
   "file_extension": ".py",
   "mimetype": "text/x-python",
   "name": "python",
   "nbconvert_exporter": "python",
   "pygments_lexer": "ipython3",
   "version": "3.12.4"
  }
 },
 "nbformat": 4,
 "nbformat_minor": 5
}
