{
 "cells": [
  {
   "cell_type": "markdown",
   "id": "40d47e35-97cd-4bc5-8019-eec32fb6835d",
   "metadata": {},
   "source": [
    "### Day 29 of programming"
   ]
  },
  {
   "cell_type": "markdown",
   "id": "041cf1a5-325a-49a3-8e23-22af554c2aba",
   "metadata": {},
   "source": [
    "## Tutorial: Convert PDF to Audiobook Using Python GUI\n",
    "### 1. Install Required Libraries\n",
    "Before starting, you need to install the necessary Python libraries:\n",
    "\n",
    "PyPDF2: To extract text from PDF files.\n",
    "\n",
    "gTTS: To convert text into speech (Google Text-to-Speech).\n",
    "\n",
    "Tkinter: For building the GUI.\n",
    "\n",
    "pydub: Optional, for handling audio file formats."
   ]
  },
  {
   "cell_type": "markdown",
   "id": "9ecc50c3-8555-4c44-a577-924cb8f7ffae",
   "metadata": {},
   "source": [
    "Converting a PDF to an audiobook using a graphical user interface (GUI) involves integrating multiple Python libraries, such as PyPDF2 or pdfplumber for extracting text from the PDF, gTTS (Google Text-to-Speech) for converting text to speech, and Tkinter for creating the GUI. Below is a step-by-step tutorial for achieving this."
   ]
  },
  {
   "cell_type": "markdown",
   "id": "0b436701-6ec5-4348-93ae-a986972cc662",
   "metadata": {},
   "source": [
    "#### Install these libraries via pip:"
   ]
  },
  {
   "cell_type": "code",
   "execution_count": null,
   "id": "4db727de-4eb2-461b-81f7-a8113238f763",
   "metadata": {},
   "outputs": [],
   "source": [
    "pip install PyPDF2 gTTS pydub\n"
   ]
  },
  {
   "cell_type": "code",
   "execution_count": 4,
   "id": "8eb30e8a-73f0-429c-a321-b7441dc51207",
   "metadata": {},
   "outputs": [
    {
     "name": "stdout",
     "output_type": "stream",
     "text": [
      "Defaulting to user installation because normal site-packages is not writeable\n",
      "Requirement already satisfied: PyPDF2 in c:\\users\\ftobun\\appdata\\roaming\\python\\python312\\site-packages (3.0.1)\n",
      "Note: you may need to restart the kernel to use updated packages.\n"
     ]
    }
   ],
   "source": [
    "pip install PyPDF2"
   ]
  },
  {
   "cell_type": "markdown",
   "id": "fd04f774-3cd4-4f11-a5ef-2be409199ca8",
   "metadata": {},
   "source": [
    "### 2. Building the Application\n",
    "#### 2.1. Importing Required Libraries\n",
    "Start by importing the necessary libraries:"
   ]
  },
  {
   "cell_type": "code",
   "execution_count": 1,
   "id": "9de79fdb-3de4-4fdb-8cb2-bcc2fe5c5f4a",
   "metadata": {},
   "outputs": [],
   "source": [
    "import os\n",
    "import PyPDF2\n",
    "from gtts import gTTS\n",
    "import tkinter as tk\n",
    "from tkinter import filedialog\n",
    "from tkinter import messagebox\n"
   ]
  },
  {
   "cell_type": "markdown",
   "id": "8c3ca50a-b252-4f32-9728-6ebde9a98d2a",
   "metadata": {},
   "source": [
    "### 2.2. Extract Text from PDF\n",
    "The function below extracts text from a PDF file:"
   ]
  },
  {
   "cell_type": "code",
   "execution_count": 3,
   "id": "9ddde3c4-c0ac-4d32-9a4e-35cf529d8090",
   "metadata": {},
   "outputs": [],
   "source": [
    "def extract_text_from_pdf(pdf_path):\n",
    "    with open(pdf_path, 'rb') as file:\n",
    "        reader = PyPDF2.PdfReader(file)\n",
    "        text = ''\n",
    "        for page_num in range(len(reader.pages)):\n",
    "            text += reader.pages[page_num].extract_text()\n",
    "    return text\n"
   ]
  },
  {
   "cell_type": "markdown",
   "id": "d41e83b1-5155-40cc-8da0-5b04ae6d91d8",
   "metadata": {},
   "source": [
    "### 2.3. Convert Text to Audio\n",
    "This function converts the extracted text to an audiobook using Google Text-to-Speech:"
   ]
  },
  {
   "cell_type": "code",
   "execution_count": null,
   "id": "d9536852-1542-444c-b96f-cc0cd95aef37",
   "metadata": {},
   "outputs": [],
   "source": [
    "def text_to_audio(text, output_file):\n",
    "    tts = gTTS(text=text, lang='en')\n",
    "    tts.save(output_file)\n",
    "    messagebox.showinfo(\"Success\", f\"Audiobook saved as {output_file}\")\n"
   ]
  },
  {
   "cell_type": "markdown",
   "id": "6e9b5715-a345-4feb-8123-5722b80d5bb2",
   "metadata": {},
   "source": [
    "### 2.4. GUI Setup Using Tkinter\n",
    "Create a simple GUI where users can choose a PDF file and convert it to an audiobook."
   ]
  },
  {
   "cell_type": "code",
   "execution_count": null,
   "id": "abf7cf4c-72aa-462c-9985-f8d9f0dbf16a",
   "metadata": {},
   "outputs": [],
   "source": [
    "def open_pdf_file():\n",
    "    file_path = filedialog.askopenfilename(title=\"Select a PDF File\", filetypes=[(\"PDF files\", \"*.pdf\")])\n",
    "    if file_path:\n",
    "        text = extract_text_from_pdf(file_path)\n",
    "        if text:\n",
    "            output_file = filedialog.asksaveasfilename(defaultextension=\".mp3\", filetypes=[(\"MP3 files\", \"*.mp3\")])\n",
    "            if output_file:\n",
    "                text_to_audio(text, output_file)\n",
    "\n",
    "def create_gui():\n",
    "    window = tk.Tk()\n",
    "    window.title(\"PDF to Audiobook Converter\")\n",
    "    \n",
    "    label = tk.Label(window, text=\"Convert your PDF to an audiobook\", font=(\"Helvetica\", 16))\n",
    "    label.pack(pady=20)\n",
    "    \n",
    "    open_button = tk.Button(window, text=\"Open PDF\", command=open_pdf_file, width=20, height=2)\n",
    "    open_button.pack(pady=20)\n",
    "    \n",
    "    exit_button = tk.Button(window, text=\"Exit\", command=window.quit, width=20, height=2)\n",
    "    exit_button.pack(pady=20)\n",
    "    \n",
    "    window.geometry(\"400x300\")\n",
    "    window.mainloop()\n",
    "\n",
    "if __name__ == \"__main__\":\n",
    "    create_gui()\n"
   ]
  },
  {
   "cell_type": "markdown",
   "id": "bcfabb68-381d-4de6-8187-3da80e5d8a8b",
   "metadata": {},
   "source": [
    "### Complete code"
   ]
  },
  {
   "cell_type": "code",
   "execution_count": 5,
   "id": "d118e643-b65e-45c4-bcfc-c4d01c33810f",
   "metadata": {},
   "outputs": [
    {
     "name": "stdout",
     "output_type": "stream",
     "text": [
      "Defaulting to user installation because normal site-packages is not writeable\n",
      "Collecting pygame\n",
      "  Downloading pygame-2.6.0-cp312-cp312-win_amd64.whl.metadata (13 kB)\n",
      "Downloading pygame-2.6.0-cp312-cp312-win_amd64.whl (10.8 MB)\n",
      "   ---------------------------------------- 0.0/10.8 MB ? eta -:--:--\n",
      "   ---------------------------------------- 0.0/10.8 MB ? eta -:--:--\n",
      "   ---------------------------------------- 0.0/10.8 MB 435.7 kB/s eta 0:00:25\n",
      "   - -------------------------------------- 0.3/10.8 MB 2.8 MB/s eta 0:00:04\n",
      "   --- ------------------------------------ 1.1/10.8 MB 7.6 MB/s eta 0:00:02\n",
      "   -------- ------------------------------- 2.4/10.8 MB 12.8 MB/s eta 0:00:01\n",
      "   ---------------- ----------------------- 4.5/10.8 MB 19.0 MB/s eta 0:00:01\n",
      "   ------------------------ --------------- 6.7/10.8 MB 23.9 MB/s eta 0:00:01\n",
      "   --------------------------------- ------ 9.0/10.8 MB 27.5 MB/s eta 0:00:01\n",
      "   ---------------------------------------  10.8/10.8 MB 40.9 MB/s eta 0:00:01\n",
      "   ---------------------------------------- 10.8/10.8 MB 34.4 MB/s eta 0:00:00\n",
      "Installing collected packages: pygame\n",
      "Successfully installed pygame-2.6.0\n",
      "Note: you may need to restart the kernel to use updated packages.\n"
     ]
    }
   ],
   "source": [
    "pip install pygame"
   ]
  },
  {
   "cell_type": "code",
   "execution_count": null,
   "id": "7f07f9be-7622-4f33-b70e-fe8efd1a5120",
   "metadata": {},
   "outputs": [
    {
     "name": "stdout",
     "output_type": "stream",
     "text": [
      "pygame 2.6.0 (SDL 2.28.4, Python 3.12.4)\n",
      "Hello from the pygame community. https://www.pygame.org/contribute.html\n"
     ]
    }
   ],
   "source": [
    "import os\n",
    "import PyPDF2\n",
    "from gtts import gTTS\n",
    "import tkinter as tk\n",
    "from tkinter import filedialog\n",
    "from tkinter import messagebox\n",
    "import pygame\n",
    "\n",
    "# Function to extract text from the PDF\n",
    "def extract_text_from_pdf(pdf_path):\n",
    "    with open(pdf_path, 'rb') as file:\n",
    "        reader = PyPDF2.PdfReader(file)\n",
    "        text = ''\n",
    "        for page_num in range(len(reader.pages)):\n",
    "            text += reader.pages[page_num].extract_text()\n",
    "    return text\n",
    "\n",
    "# Function to convert extracted text to audio using gTTS\n",
    "def text_to_audio(text, output_file):\n",
    "    tts = gTTS(text=text, lang='en')\n",
    "    tts.save(output_file)\n",
    "    messagebox.showinfo(\"Success\", f\"Audiobook saved as {output_file}\")\n",
    "    play_audio(output_file)  # Play audio after saving\n",
    "\n",
    "# Function to play the audio using pygame\n",
    "def play_audio(file_path):\n",
    "    pygame.mixer.init()  # Initialize the mixer\n",
    "    pygame.mixer.music.load(file_path)  # Load the MP3 file\n",
    "    pygame.mixer.music.play()  # Play the audio\n",
    "    while pygame.mixer.music.get_busy():  # Wait for the music to finish playing\n",
    "        pygame.time.Clock().tick(10)\n",
    "\n",
    "# Function to handle PDF file selection and conversion process\n",
    "def open_pdf_file():\n",
    "    file_path = filedialog.askopenfilename(title=\"Select a PDF File\", filetypes=[(\"PDF files\", \"*.pdf\")])\n",
    "    if file_path:\n",
    "        text = extract_text_from_pdf(file_path)\n",
    "        if text:\n",
    "            output_file = filedialog.asksaveasfilename(defaultextension=\".mp3\", filetypes=[(\"MP3 files\", \"*.mp3\")])\n",
    "            if output_file:\n",
    "                text_to_audio(text, output_file)\n",
    "\n",
    "# Function to create the GUI using Tkinter\n",
    "def create_gui():\n",
    "    window = tk.Tk()\n",
    "    window.title(\"PDF to Audiobook Converter\")\n",
    "    \n",
    "    label = tk.Label(window, text=\"Convert your PDF to an audiobook\", font=(\"Helvetica\", 16))\n",
    "    label.pack(pady=20)\n",
    "    \n",
    "    open_button = tk.Button(window, text=\"Open PDF\", command=open_pdf_file, width=20, height=2)\n",
    "    open_button.pack(pady=20)\n",
    "    \n",
    "    exit_button = tk.Button(window, text=\"Exit\", command=window.quit, width=20, height=2)\n",
    "    exit_button.pack(pady=20)\n",
    "    \n",
    "    window.geometry(\"400x300\")\n",
    "    window.mainloop()\n",
    "\n",
    "if __name__ == \"__main__\":\n",
    "    create_gui()\n"
   ]
  },
  {
   "cell_type": "code",
   "execution_count": null,
   "id": "ec092f33-5db9-4a01-a33f-4d2e2720e9b4",
   "metadata": {},
   "outputs": [],
   "source": []
  }
 ],
 "metadata": {
  "kernelspec": {
   "display_name": "Python 3 (ipykernel)",
   "language": "python",
   "name": "python3"
  },
  "language_info": {
   "codemirror_mode": {
    "name": "ipython",
    "version": 3
   },
   "file_extension": ".py",
   "mimetype": "text/x-python",
   "name": "python",
   "nbconvert_exporter": "python",
   "pygments_lexer": "ipython3",
   "version": "3.12.4"
  }
 },
 "nbformat": 4,
 "nbformat_minor": 5
}
