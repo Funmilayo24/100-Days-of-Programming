{
 "cells": [
  {
   "cell_type": "markdown",
   "id": "5c26b553",
   "metadata": {},
   "source": [
    "### Day 65 of programming"
   ]
  },
  {
   "cell_type": "markdown",
   "id": "26d24c3e",
   "metadata": {},
   "source": [
    "### Building a Simple Weather App"
   ]
  },
  {
   "cell_type": "markdown",
   "id": "d5fc98ae",
   "metadata": {},
   "source": [
    "#### Step 1: Install Required Libraries\n",
    "\n",
    "First, you'll need the following libraries:\n",
    "\n",
    "requests: To send HTTP requests to the weather API.\n",
    "\n",
    "json: To parse the data returned by the API.\n",
    "\n",
    "You can install the requests library by running:"
   ]
  },
  {
   "cell_type": "code",
   "execution_count": null,
   "id": "a4c40f28",
   "metadata": {},
   "outputs": [],
   "source": [
    "pip install requests\n"
   ]
  },
  {
   "cell_type": "markdown",
   "id": "07347fff",
   "metadata": {},
   "source": [
    "#### Step 2: Get an API Key\n",
    "\n",
    "Go to the OpenWeatherMap website and sign up.\n",
    "\n",
    "Once signed in, navigate to your API keys page and generate a key.\n",
    "\n",
    "Copy the key for use in the code."
   ]
  },
  {
   "cell_type": "code",
   "execution_count": null,
   "id": "744a1246",
   "metadata": {},
   "outputs": [],
   "source": []
  },
  {
   "cell_type": "markdown",
   "id": "1c3eef27",
   "metadata": {},
   "source": [
    "#### Step 3: Basic Python Weather App\n",
    "The weather app will:\n",
    "\n",
    "Take a city name as input.\n",
    "\n",
    "Use the OpenWeatherMap API to fetch weather data.\n",
    "\n",
    "Display the current weather for that city."
   ]
  },
  {
   "cell_type": "code",
   "execution_count": null,
   "id": "5785a005",
   "metadata": {},
   "outputs": [],
   "source": [
    "import requests\n",
    "\n",
    "# Step 1: Get the API key\n",
    "API_KEY = 'your_api_key_here'\n",
    "\n",
    "# Step 2: Define the function to get weather data\n",
    "def get_weather(city):\n",
    "    # API URL\n",
    "    url = f'http://api.openweathermap.org/data/2.5/weather?q={city}&appid={API_KEY}&units=metric'\n",
    "    \n",
    "    # Make a request to the API\n",
    "    response = requests.get(url)\n",
    "    \n",
    "    # Check if the request was successful\n",
    "    if response.status_code == 200:\n",
    "        data = response.json()  # Convert the response to JSON format\n",
    "        \n",
    "        # Extract relevant data from the JSON\n",
    "        temperature = data['main']['temp']\n",
    "        weather_description = data['weather'][0]['description']\n",
    "        humidity = data['main']['humidity']\n",
    "        wind_speed = data['wind']['speed']\n",
    "        \n",
    "        # Print the weather information\n",
    "        print(f\"City: {city}\")\n",
    "        print(f\"Temperature: {temperature}°C\")\n",
    "        print(f\"Weather: {weather_description}\")\n",
    "        print(f\"Humidity: {humidity}%\")\n",
    "        print(f\"Wind Speed: {wind_speed} m/s\")\n",
    "    else:\n",
    "        print(\"City not found. Please check the city name.\")\n",
    "\n",
    "# Step 3: Main Program to get input from user\n",
    "if __name__ == \"__main__\":\n",
    "    city = input(\"Enter city name: \")\n",
    "    get_weather(city)\n"
   ]
  },
  {
   "cell_type": "markdown",
   "id": "5635076c",
   "metadata": {},
   "source": [
    "#### Explanation of the Code\n",
    "API Endpoint: The URL used to get the weather is http://api.openweathermap.org/data/2.5/weather. We append the city name, API key, and units (metric for Celsius) to this URL.\n",
    "\n",
    "requests.get(): This function sends an HTTP GET request to the API.\n",
    "\n",
    "response.json(): Converts the API response into JSON format so we can extract specific data.\n",
    "\n",
    "Extracting Data: We use the keys 'main', 'weather', 'humidity', and 'wind' to get the temperature, description, humidity, and wind speed from the JSON response.\n",
    "\n",
    "Error Handling: If the city is not found (e.g., typo), we print an error message based on the response.status_code"
   ]
  },
  {
   "cell_type": "markdown",
   "id": "0ff852de",
   "metadata": {},
   "source": [
    "### Practice Question\n",
    "\n",
    "1. Modify the app to send weather alerts when extreme conditions (e.g., very high temperatures or storms) are detected.\n",
    "\n",
    "2. Extend the app to show the wind direction (in degrees) along with the wind speed.\n",
    "\n",
    "3. Modify the app to check if rain or snow is expected and notify the user if they need an umbrella."
   ]
  },
  {
   "cell_type": "code",
   "execution_count": null,
   "id": "22b3f16b",
   "metadata": {},
   "outputs": [],
   "source": []
  }
 ],
 "metadata": {
  "kernelspec": {
   "display_name": "Python 3 (ipykernel)",
   "language": "python",
   "name": "python3"
  },
  "language_info": {
   "codemirror_mode": {
    "name": "ipython",
    "version": 3
   },
   "file_extension": ".py",
   "mimetype": "text/x-python",
   "name": "python",
   "nbconvert_exporter": "python",
   "pygments_lexer": "ipython3",
   "version": "3.11.5"
  }
 },
 "nbformat": 4,
 "nbformat_minor": 5
}
