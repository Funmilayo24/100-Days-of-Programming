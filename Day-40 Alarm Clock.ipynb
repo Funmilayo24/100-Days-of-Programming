{
 "cells": [
  {
   "cell_type": "markdown",
   "id": "0947105c-e88e-4669-be60-95064df389f6",
   "metadata": {},
   "source": [
    "### Day 40 of programming"
   ]
  },
  {
   "cell_type": "markdown",
   "id": "5686ac1d-8f61-4b7d-8cf3-52ade5827f93",
   "metadata": {},
   "source": [
    "## Python Alarm Clock Tutorial\n",
    "In this tutorial, we will learn how to build a simple alarm clock using Python. The alarm clock will use the datetime module to get the current time, and we’ll use Tkinter for the GUI (Graphical User Interface) to set the alarm time. When the alarm goes off, it will play an alarm sound using the playsound library.\n",
    "\n",
    "### Requirements\n",
    "Tkinter: This is the built-in Python library used to create GUIs.\n",
    "\n",
    "Datetime: The built-in library for managing date and time.\n",
    "\n",
    "Playsound: A Python library that allows us to play sound. You can install it via pip:"
   ]
  },
  {
   "cell_type": "code",
   "execution_count": 1,
   "id": "b8e8d30c-abfb-46e5-972f-7f0120dcb4c6",
   "metadata": {},
   "outputs": [
    {
     "name": "stdout",
     "output_type": "stream",
     "text": [
      "Defaulting to user installation because normal site-packages is not writeable\n",
      "Collecting playsound\n",
      "  Downloading playsound-1.3.0.tar.gz (7.7 kB)\n",
      "  Preparing metadata (setup.py): started\n",
      "  Preparing metadata (setup.py): finished with status 'done'\n",
      "Building wheels for collected packages: playsound\n",
      "  Building wheel for playsound (setup.py): started\n",
      "  Building wheel for playsound (setup.py): finished with status 'done'\n",
      "  Created wheel for playsound: filename=playsound-1.3.0-py3-none-any.whl size=7043 sha256=a246a427805639ddf3d388eb10edc0ffb20a34d12bc0e43b349573ef04a5634e\n",
      "  Stored in directory: c:\\users\\ftobun\\appdata\\local\\pip\\cache\\wheels\\cf\\42\\ff\\7c587bae55eec67b909ca316b250d9b4daedbf272a3cbeb907\n",
      "Successfully built playsound\n",
      "Installing collected packages: playsound\n",
      "Successfully installed playsound-1.3.0\n",
      "Note: you may need to restart the kernel to use updated packages.\n"
     ]
    }
   ],
   "source": [
    "pip install playsound\n"
   ]
  },
  {
   "cell_type": "markdown",
   "id": "fa16bd4d-0dd8-4e8b-9faa-ed3c145aa364",
   "metadata": {},
   "source": [
    "## Steps to Create the Alarm Clock\n",
    "### 1. Setting Up the GUI with Tkinter\n",
    "First, let’s start by creating a simple Tkinter window with input fields for the alarm time (hour, minute, and second), and a button to set the alarm.\n",
    "\n",
    "### 2. Checking the Current Time\n",
    "We will use the datetime module to check the current time and compare it with the alarm time set by the user.\n",
    "\n",
    "### 3. Playing the Alarm Sound\n",
    "When the current time matches the alarm time, we will play a sound using the playsound module."
   ]
  },
  {
   "cell_type": "markdown",
   "id": "c1133e0c-2f81-4d01-a12b-fc5fe17edd29",
   "metadata": {},
   "source": [
    "### Import required library"
   ]
  },
  {
   "cell_type": "code",
   "execution_count": 5,
   "id": "4fe7f9f5-4ee8-4471-97e6-498d10739f5d",
   "metadata": {},
   "outputs": [],
   "source": [
    "import tkinter as tk\n",
    "from datetime import datetime\n",
    "from playsound import playsound\n",
    "import time\n"
   ]
  },
  {
   "cell_type": "markdown",
   "id": "7325642e-e0fe-4bde-9d3d-979f9a30f67f",
   "metadata": {},
   "source": [
    "### Create the GUI window"
   ]
  },
  {
   "cell_type": "code",
   "execution_count": 6,
   "id": "1e04bf01-e0cf-4d3f-a436-3193e9abde7c",
   "metadata": {},
   "outputs": [],
   "source": [
    "root = tk.Tk()\n",
    "root.title(\"Alarm Clock\")\n",
    "root.geometry(\"300x200\")\n",
    "\n",
    "# Labels\n",
    "tk.Label(root, text=\"Set Time for Alarm\", font=(\"Helvetica\", 15)).pack(pady=10)\n",
    "\n",
    "# Hour Input\n",
    "hour = tk.StringVar()\n",
    "tk.Entry(root, textvariable=hour, width=5, font=(\"Arial\", 12)).pack(side=tk.LEFT, padx=5)\n",
    "\n",
    "# Minute Input\n",
    "minute = tk.StringVar()\n",
    "tk.Entry(root, textvariable=minute, width=5, font=(\"Arial\", 12)).pack(side=tk.LEFT, padx=5)\n",
    "\n",
    "# Second Input\n",
    "second = tk.StringVar()\n",
    "tk.Entry(root, textvariable=second, width=5, font=(\"Arial\", 12)).pack(side=tk.LEFT, padx=5)\n",
    "\n",
    "# Set Alarm Button\n",
    "tk.Button(root, text=\"Set Alarm\").pack(pady=10)\n",
    "\n",
    "# Status Label to display messages\n",
    "status = tk.Label(root, text=\"\", font=(\"Arial\", 12))\n",
    "status.pack()\n",
    "\n",
    "root.mainloop()"
   ]
  },
  {
   "cell_type": "markdown",
   "id": "51deda81-699c-4b61-9320-8a8024a5c41e",
   "metadata": {},
   "source": [
    "### GUI Creation:\n",
    "\n",
    "We use the Tkinter library to create a window (root) and set the title to \"Alarm Clock\".\n",
    "\n",
    "The input fields for hours, minutes, and seconds are created using tk.Entry() widgets.\n",
    "\n",
    "A button is used to set the alarm, which calls the set_alarm() function.\n",
    "\n",
    "The status label is updated to show whether the alarm is set or if it’s time to wake up."
   ]
  },
  {
   "cell_type": "markdown",
   "id": "33c19e76-14dc-42f0-88e2-5e473041ff8b",
   "metadata": {},
   "source": [
    "### Setting Up the function"
   ]
  },
  {
   "cell_type": "code",
   "execution_count": 7,
   "id": "87d25573-cfc9-4469-a379-a21d4c4db798",
   "metadata": {},
   "outputs": [],
   "source": [
    "def set_alarm():\n",
    "    alarm_time = f\"{hour.get()}:{minute.get()}:{second.get()}\"\n",
    "    status.config(text=f\"Alarm is set for {alarm_time}\")\n",
    "    check_alarm(alarm_time)\n",
    "\n",
    "def check_alarm(alarm_time):\n",
    "    while True:\n",
    "        current_time = datetime.now().strftime(\"%H:%M:%S\")\n",
    "        if current_time == alarm_time:\n",
    "            status.config(text=\"Time to wake up!\")\n",
    "            playsound(\"alarm_sound.mp3\")\n",
    "            break\n",
    "        time.sleep(1)"
   ]
  },
  {
   "cell_type": "markdown",
   "id": "ee38a663-59a5-45d4-962a-0ebd6be11c48",
   "metadata": {},
   "source": [
    "### Putting it all together"
   ]
  },
  {
   "cell_type": "code",
   "execution_count": null,
   "id": "9f39e9d7-33e8-45c6-b62f-fef98476ab2a",
   "metadata": {},
   "outputs": [
    {
     "name": "stdout",
     "output_type": "stream",
     "text": [
      "12:42:00\n",
      "12:41:38\n",
      "12:41:39\n",
      "12:41:40\n",
      "12:41:41\n",
      "12:41:42\n",
      "12:41:43\n",
      "12:41:44\n",
      "12:41:45\n",
      "12:41:46\n",
      "12:41:47\n",
      "12:41:48\n",
      "12:41:49\n",
      "12:41:50\n",
      "12:41:51\n",
      "12:41:52\n",
      "12:41:53\n",
      "12:41:54\n",
      "12:41:55\n",
      "12:41:56\n",
      "12:41:57\n",
      "12:41:58\n",
      "12:41:59\n",
      "12:42:00\n"
     ]
    }
   ],
   "source": [
    "def set_alarm():\n",
    "    alarm_time = f\"{hour.get()}:{minute.get()}:{second.get()}\"\n",
    "    print(alarm_time)\n",
    "    status.config(text=f\"Alarm is set for {alarm_time}\")\n",
    "    check_alarm(alarm_time)\n",
    "\n",
    "def check_alarm(alarm_time):\n",
    "    while True:\n",
    "        current_time = datetime.now().strftime(\"%H:%M:%S\")\n",
    "        print(current_time)\n",
    "        if current_time == alarm_time:\n",
    "            status.config(text=\"Time to wake up!\")\n",
    "            playsound('sound.mp3')\n",
    "            break\n",
    "        time.sleep(1)  # Check every second\n",
    "\n",
    "# Create the GUI window\n",
    "root = tk.Tk()\n",
    "root.title(\"Alarm Clock\")\n",
    "root.geometry(\"300x200\")\n",
    "\n",
    "# Labels\n",
    "tk.Label(root, text=\"Set Time for Alarm\", font=(\"Helvetica\", 15)).pack(pady=10)\n",
    "\n",
    "# Hour Input\n",
    "hour = tk.StringVar()\n",
    "tk.Entry(root, textvariable=hour, width=5, font=(\"Arial\", 12)).pack(side=tk.LEFT, padx=5)\n",
    "\n",
    "# Minute Input\n",
    "minute = tk.StringVar()\n",
    "tk.Entry(root, textvariable=minute, width=5, font=(\"Arial\", 12)).pack(side=tk.LEFT, padx=5)\n",
    "\n",
    "# Second Input\n",
    "second = tk.StringVar()\n",
    "tk.Entry(root, textvariable=second, width=5, font=(\"Arial\", 12)).pack(side=tk.LEFT, padx=5)\n",
    "\n",
    "# Set Alarm Button\n",
    "tk.Button(root, text=\"Set Alarm\", command=set_alarm).pack(pady=10)\n",
    "\n",
    "# Status Label to display messages\n",
    "status = tk.Label(root, text=\"\", font=(\"Arial\", 12))\n",
    "status.pack()\n",
    "\n",
    "root.mainloop()\n"
   ]
  },
  {
   "cell_type": "markdown",
   "id": "7e6b9fb4-d8bf-49c1-92b1-68b362e35d65",
   "metadata": {},
   "source": [
    "### Setting the Alarm:\n",
    "\n",
    "When the user clicks the \"Set Alarm\" button, the set_alarm() function is triggered.\n",
    "\n",
    "It retrieves the input values for hours, minutes, and seconds and then compares the current time with the alarm time in a loop using the check_alarm() function.\n",
    "\n",
    "### Checking the Alarm:\n",
    "\n",
    "The check_alarm() function continuously checks the current time using the datetime.now().strftime(\"%H:%M:%S\") method.\n",
    "If the current time matches the alarm time, it plays an alarm sound and breaks the loop.\n",
    "\n",
    "### Playing the Sound:\n",
    "\n",
    "We use the playsound() function to play a sound when the alarm time is reached. Make sure you have a sound file (alarm_sound.mp3) in the same directory as the script, or provide the full path."
   ]
  },
  {
   "cell_type": "markdown",
   "id": "c170ced0-ba17-470c-a9cf-bd390c555801",
   "metadata": {},
   "source": [
    "### Practice Questions:\n",
    "Add a Snooze Feature: Modify the alarm clock so that it offers a snooze button. When clicked, the alarm should be postponed by 5 or 10 minutes.\n",
    "\n",
    "Multiple Alarms: Modify the program to allow setting multiple alarms at once. You could use a list to store multiple alarm times.\n",
    "\n",
    "Alarm Sound Selection: Add functionality that allows the user to select the alarm sound from multiple available options."
   ]
  },
  {
   "cell_type": "code",
   "execution_count": null,
   "id": "1466c939-98c9-4506-b000-df6b8995b258",
   "metadata": {},
   "outputs": [],
   "source": []
  }
 ],
 "metadata": {
  "kernelspec": {
   "display_name": "Python 3 (ipykernel)",
   "language": "python",
   "name": "python3"
  },
  "language_info": {
   "codemirror_mode": {
    "name": "ipython",
    "version": 3
   },
   "file_extension": ".py",
   "mimetype": "text/x-python",
   "name": "python",
   "nbconvert_exporter": "python",
   "pygments_lexer": "ipython3",
   "version": "3.12.4"
  }
 },
 "nbformat": 4,
 "nbformat_minor": 5
}
