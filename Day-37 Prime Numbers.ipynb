{
 "cells": [
  {
   "cell_type": "markdown",
   "id": "ae9e581b-64ec-495f-b6f1-36f4fd25d694",
   "metadata": {},
   "source": [
    "### Day 37 of programming"
   ]
  },
  {
   "cell_type": "markdown",
   "id": "c4032880-6135-4449-9413-fe34d3e763b4",
   "metadata": {},
   "source": [
    "## Python Program to Check Prime Number\n",
    "\n",
    "A prime number is a number that is only divisible by '1' and itself. In simpler terms, you cannot come up with a prime number by multiplying two smaller natural numbers."
   ]
  },
  {
   "cell_type": "code",
   "execution_count": 3,
   "id": "0e17d396-2e19-4391-b71e-d7fd3fb96e28",
   "metadata": {},
   "outputs": [
    {
     "name": "stdin",
     "output_type": "stream",
     "text": [
      "Enter a number:  0\n"
     ]
    },
    {
     "name": "stdout",
     "output_type": "stream",
     "text": [
      "0 is not a prime number.\n"
     ]
    }
   ],
   "source": [
    "def is_prime(num):\n",
    "    if num <= 1:\n",
    "        return False\n",
    "    for i in range(2, int(num**0.5) + 1):\n",
    "        if num % i == 0:\n",
    "            return False\n",
    "    return True\n",
    "\n",
    "number = int(input(\"Enter a number: \"))\n",
    "if is_prime(number):\n",
    "    print(f\"{number} is a prime number.\")\n",
    "else:\n",
    "    print(f\"{number} is not a prime number.\")"
   ]
  },
  {
   "cell_type": "markdown",
   "id": "431b390b-9f70-4b5c-aa45-a2da8f8508b8",
   "metadata": {},
   "source": [
    "### Example Walkthrough:\n",
    "Input: 17\n",
    "\n",
    "The is_prime(17) function is called.\n",
    "\n",
    "The first check (num <= 1) is skipped because 17 > 1.\n",
    "\n",
    "The loop starts from i = 2 and checks if 17 % i == 0 for values of i up to the square root of 17 (which is around 4.12).\n",
    "\n",
    "17 % 2 != 0\n",
    "\n",
    "17 % 3 != 0\n",
    "\n",
    "17 % 4 != 0\n",
    "Since no divisors are found, the function returns True, indicating that 17 is a prime number.\n",
    "\n",
    "The output is: \"17 is a prime number.\""
   ]
  },
  {
   "cell_type": "code",
   "execution_count": null,
   "id": "4d052fe4-7106-486c-902f-34fde1155711",
   "metadata": {},
   "outputs": [],
   "source": []
  }
 ],
 "metadata": {
  "kernelspec": {
   "display_name": "Python 3 (ipykernel)",
   "language": "python",
   "name": "python3"
  },
  "language_info": {
   "codemirror_mode": {
    "name": "ipython",
    "version": 3
   },
   "file_extension": ".py",
   "mimetype": "text/x-python",
   "name": "python",
   "nbconvert_exporter": "python",
   "pygments_lexer": "ipython3",
   "version": "3.12.4"
  }
 },
 "nbformat": 4,
 "nbformat_minor": 5
}
