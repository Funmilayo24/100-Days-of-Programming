{
 "cells": [
  {
   "cell_type": "markdown",
   "id": "772779b4-5d72-409f-a1e8-c396250d9c2c",
   "metadata": {},
   "source": [
    "### Day 43 of programming"
   ]
  },
  {
   "cell_type": "markdown",
   "id": "bf62c753-91f6-4ee6-9881-beef7b5cec94",
   "metadata": {},
   "source": [
    "## Checking for a Leap Year in Python\n",
    "Overview\n",
    "A leap year is a year that is divisible by 4, but if it is divisible by 100, it must also be divisible by 400 to be considered a leap year. This means that:\n",
    "\n",
    "Years like 2020, 2024, and 2000 are leap years.\n",
    "\n",
    "Years like 1900, 2100, and 2021 are not leap years.\n",
    "\n",
    "### Objectives\n",
    "Understand the rules for determining a leap year.\n",
    "\n",
    "Implement a function in Python to check if a given year is a leap year.\n",
    "\n",
    "\n",
    "### Rules for Leap Years\n",
    "If a year is divisible by 4, it is a leap year, unless:\n",
    "\n",
    "The year is also divisible by 100. In that case, it must be divisible by 400 to be a leap year."
   ]
  },
  {
   "cell_type": "code",
   "execution_count": 2,
   "id": "aeb86507-549f-4f63-8393-3b222189a568",
   "metadata": {},
   "outputs": [
    {
     "name": "stdin",
     "output_type": "stream",
     "text": [
      "Enter a year to check if it's a leap year:  2004\n"
     ]
    },
    {
     "name": "stdout",
     "output_type": "stream",
     "text": [
      "2004 is a leap year.\n"
     ]
    }
   ],
   "source": [
    "def is_leap_year(year):\n",
    "    \"\"\"\n",
    "    Function to check if a given year is a leap year.\n",
    "    \n",
    "    Parameters:\n",
    "    year (int): The year to check\n",
    "    \n",
    "    Returns:\n",
    "    bool: True if the year is a leap year, False otherwise\n",
    "    \"\"\"\n",
    "    # Check if the year is divisible by 4\n",
    "    if year % 4 == 0:\n",
    "        # If it is divisible by 100, check if it is also divisible by 400\n",
    "        if year % 100 == 0:\n",
    "            if year % 400 == 0:\n",
    "                return True  # It is a leap year\n",
    "            else:\n",
    "                return False  # It is not a leap year\n",
    "        else:\n",
    "            return True  # It is a leap year\n",
    "    else:\n",
    "        return False  # It is not a leap year\n",
    "\n",
    "year_to_check = int(input(\"Enter a year to check if it's a leap year: \"))\n",
    "if is_leap_year(year_to_check):\n",
    "    print(f\"{year_to_check} is a leap year.\")\n",
    "else:\n",
    "    print(f\"{year_to_check} is not a leap year.\")\n",
    "\n"
   ]
  },
  {
   "cell_type": "code",
   "execution_count": null,
   "id": "c0ee0ca6-b410-404e-9e62-2d94fe727b39",
   "metadata": {},
   "outputs": [],
   "source": []
  }
 ],
 "metadata": {
  "kernelspec": {
   "display_name": "Python 3 (ipykernel)",
   "language": "python",
   "name": "python3"
  },
  "language_info": {
   "codemirror_mode": {
    "name": "ipython",
    "version": 3
   },
   "file_extension": ".py",
   "mimetype": "text/x-python",
   "name": "python",
   "nbconvert_exporter": "python",
   "pygments_lexer": "ipython3",
   "version": "3.12.4"
  }
 },
 "nbformat": 4,
 "nbformat_minor": 5
}
